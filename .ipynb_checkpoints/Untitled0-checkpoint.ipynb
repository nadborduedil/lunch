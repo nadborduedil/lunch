{
 "metadata": {
  "name": "",
  "signature": "sha256:ada4bcdf6044a19cec2dfb0abfb333ad142e9fa363fd68517e8dad7f3b36c7df"
 },
 "nbformat": 3,
 "nbformat_minor": 0,
 "worksheets": [
  {
   "cells": [
    {
     "cell_type": "code",
     "collapsed": false,
     "input": [
      "from datetime import datetime\n",
      "from collections import Counter\n",
      "import pandas as pd\n",
      "import numpy as np\n",
      "%matplotlib inline\n",
      "import matplotlib\n",
      "matplotlib.style.use('ggplot')\n",
      "import matplotlib.pyplot as plt\n",
      "import statsmodels.api as sm\n",
      "import re\n",
      "\n",
      "with open(\"great_lunch.tsv\", \"rb\") as gls:\n",
      "    lines = gls.readlines()\n",
      "    \n",
      "class Lunch(object):\n",
      "    def __init__(self):\n",
      "        self.lower_scale = \"\"\n",
      "        self.upper_scale = \"\"\n",
      "        self.prompt = \"\"\n",
      "        self.ratings = []\n",
      "        self.people2ratings = {}\n",
      "        \n",
      "        \n",
      "    def make_dict(self):\n",
      "        for r in self.ratings:\n",
      "            self.people2ratings[r[2]] = r\n",
      "        \n",
      "def read_rating(fields):\n",
      "    try:\n",
      "        date = datetime.strptime(fields[0], \"%d/%m/%Y %H:%M:%S\")\n",
      "    except:\n",
      "        return None\n",
      "    \n",
      "    return date, int(fields[1]), fields[2].split(\"@\")[0], fields[3]\n",
      "\n",
      "def valid_lunch(lunch):\n",
      "    return all(r[2] for r in lunch.ratings)\n",
      "    \n",
      "\n",
      "\n",
      "lunches = []\n",
      "for line in lines:\n",
      "    fields = line.split(\"\\t\")\n",
      "    if fields[0] == \"Timestamp\":\n",
      "        l = Lunch()\n",
      "        l.prompt = re.findall(r\"\\(.*\\)\", fields[1])[0].strip(\"()\")\n",
      "#         l.prompt = fields[1].strip(\"rRate today's lunch:\")\n",
      "        lunches.append(l)\n",
      "    else:\n",
      "        rating = read_rating(fields)\n",
      "        if rating:\n",
      "            lunches[-1].ratings.append(rating)\n",
      "    \n",
      "valid_lunches = filter(valid_lunch, lunches)\n",
      "\n",
      "all_raters = set([r[2] for lunch in valid_lunches for r in lunch.ratings if r[2]])\n",
      "\n",
      "\n",
      "rows = []\n",
      "for lunch in valid_lunches:\n",
      "    lunch.make_dict()\n",
      "    columns = dict((name, np.NAN) for name in all_raters)\n",
      "    for r in lunch.ratings:\n",
      "        columns[r[2]] = r[1]\n",
      "    rows.append(columns)\n",
      "lunch_names = [lunch.prompt for lunch in valid_lunches]\n",
      "    \n",
      "people_df = pd.DataFrame(rows, lunch_names)\n",
      "lunches_df = people_df.transpose()\n",
      "\n",
      "standardized_df = (people_df - people_df.mean())/people_df.std()\n",
      "std_lunches_df = standardized_df.transpose()\n",
      "\n",
      "frequent_df = lunches_df[people_df.count() > 10].transpose()\n",
      "# frequent_df = std_lunches_df[people_df.count() > 10].transpose()\n",
      "frequent_people = list(frequent_df.columns)"
     ],
     "language": "python",
     "metadata": {},
     "outputs": [],
     "prompt_number": 1
    },
    {
     "cell_type": "code",
     "collapsed": false,
     "input": [
      "all_ratings = [r[1] for lunch in lunches for r in lunch.ratings]\n",
      "c = Counter(all_ratings)\n",
      "x = c.values()\n",
      "\n",
      "fig, ax = plt.subplots()\n",
      "ax.set_xlim(0,6)\n",
      "ax.set_xticks(range(1, 6))\n",
      "ax.set_xlabel(\"score\")\n",
      "ax.set_ylabel(\"number of ratings\")\n",
      "fig.set_size_inches(13, 7)\n",
      "fig.suptitle(\"number of lunch rating by rate given\", fontsize=20)\n",
      "\n",
      "plocik = plt.bar([0.5, 1.5, 2.5, 3.5, 4.5], x)\n",
      "plt.show()"
     ],
     "language": "python",
     "metadata": {},
     "outputs": [
      {
       "metadata": {},
       "output_type": "display_data",
       "png": "[encoded data removed]",
       "text": [
        "<matplotlib.figure.Figure at 0x10f53acd0>"
       ]
      }
     ],
     "prompt_number": 4
    },
    {
     "cell_type": "code",
     "collapsed": false,
     "input": [
      "sum(all_ratings) / float(len(all_ratings))"
     ],
     "language": "python",
     "metadata": {},
     "outputs": [
      {
       "metadata": {},
       "output_type": "pyout",
       "prompt_number": 3,
       "text": [
        "3.602927721866423"
       ]
      }
     ],
     "prompt_number": 3
    },
    {
     "cell_type": "heading",
     "level": 4,
     "metadata": {},
     "source": [
      "adfasdf dfs "
     ]
    },
    {
     "cell_type": "heading",
     "level": 3,
     "metadata": {},
     "source": [
      "How much do we like our lunches?"
     ]
    },
    {
     "cell_type": "markdown",
     "metadata": {},
     "source": []
    }
   ],
   "metadata": {}
  }
 ]
}